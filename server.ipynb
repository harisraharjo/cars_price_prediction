{
 "cells": [
  {
   "cell_type": "code",
   "execution_count": 34,
   "metadata": {},
   "outputs": [
    {
     "name": "stdout",
     "output_type": "stream",
     "text": [
      "Requirement already satisfied: flask==0.12.2 in c:\\users\\haris\\anaconda3\\lib\\site-packages (0.12.2)\n",
      "Requirement already satisfied: itsdangerous>=0.21 in c:\\users\\haris\\anaconda3\\lib\\site-packages (from flask==0.12.2) (1.1.0)\n",
      "Requirement already satisfied: Werkzeug>=0.7 in c:\\users\\haris\\anaconda3\\lib\\site-packages (from flask==0.12.2) (0.15.4)\n",
      "Requirement already satisfied: click>=2.0 in c:\\users\\haris\\anaconda3\\lib\\site-packages (from flask==0.12.2) (7.0)\n",
      "Requirement already satisfied: Jinja2>=2.4 in c:\\users\\haris\\anaconda3\\lib\\site-packages (from flask==0.12.2) (2.10.1)\n",
      "Requirement already satisfied: MarkupSafe>=0.23 in c:\\users\\haris\\anaconda3\\lib\\site-packages (from Jinja2>=2.4->flask==0.12.2) (1.1.1)\n",
      "Requirement already up-to-date: flask-cors in c:\\users\\haris\\anaconda3\\lib\\site-packages (3.0.8)\n",
      "Requirement already satisfied, skipping upgrade: Six in c:\\users\\haris\\anaconda3\\lib\\site-packages (from flask-cors) (1.12.0)\n",
      "Requirement already satisfied, skipping upgrade: Flask>=0.9 in c:\\users\\haris\\anaconda3\\lib\\site-packages (from flask-cors) (0.12.2)\n",
      "Requirement already satisfied, skipping upgrade: itsdangerous>=0.21 in c:\\users\\haris\\anaconda3\\lib\\site-packages (from Flask>=0.9->flask-cors) (1.1.0)\n",
      "Requirement already satisfied, skipping upgrade: Werkzeug>=0.7 in c:\\users\\haris\\anaconda3\\lib\\site-packages (from Flask>=0.9->flask-cors) (0.15.4)\n",
      "Requirement already satisfied, skipping upgrade: click>=2.0 in c:\\users\\haris\\anaconda3\\lib\\site-packages (from Flask>=0.9->flask-cors) (7.0)\n",
      "Requirement already satisfied, skipping upgrade: Jinja2>=2.4 in c:\\users\\haris\\anaconda3\\lib\\site-packages (from Flask>=0.9->flask-cors) (2.10.1)\n",
      "Requirement already satisfied, skipping upgrade: MarkupSafe>=0.23 in c:\\users\\haris\\anaconda3\\lib\\site-packages (from Jinja2>=2.4->Flask>=0.9->flask-cors) (1.1.1)\n"
     ]
    }
   ],
   "source": [
    "import requests as rq \n",
    "import pandas as pd\n",
    "import json\n",
    "import numpy as np\n",
    "import matplotlib.pyplot as plt\n",
    "# from plot import do_plot\n",
    "from bs4 import BeautifulSoup as bs\n",
    "from sklearn import metrics\n",
    "from sklearn.preprocessing import StandardScaler\n",
    "# from sklearn.preprocessing import MinMaxScaler\n",
    "from sklearn.model_selection import train_test_split \n",
    "from sklearn.linear_model import LinearRegression\n",
    "\n",
    "import seaborn as sns\n",
    "from pylab import savefig\n",
    "import io\n",
    "\n",
    "# FLASK\n",
    "# !pip install flask-ngrok\n",
    "!pip install flask==0.12.2\n",
    "!pip install -U flask-cors\n",
    "\n",
    "# from flask_ngrok import run_with_ngrok\n",
    "from flask import Flask, jsonify, make_response, send_file\n",
    "from flask_cors import CORS, cross_origin\n",
    "\n",
    "app = Flask(__name__)\n",
    "cors = CORS(app,resources={r\"/\": {\"origins\": \"http://localhost:3000/\"}})\n",
    "app.config['SECRET_KEY'] = 'the quick brown fox jumps over the lazy dog'\n",
    "app.config['CORS_HEADERS'] = 'Content-Type'\n",
    "# run_with_ngrok(app)   #starts ngrok when the app is run"
   ]
  },
  {
   "cell_type": "code",
   "execution_count": 35,
   "metadata": {},
   "outputs": [
    {
     "name": "stdout",
     "output_type": "stream",
     "text": [
      "{'mileage': '8,070 mi.', 'body_name': 'SUV', 'price': 69800, 'make': 'BMW', 'model': 'X7', 'trim_name': 'xDrive40i', 'year': 2019, 'ext_color': 'White', 'int_color': 'Other', 'transmission': 'Automatic', 'drivetrain': 'AWD', 'image': 'https://www.cstatic-images.com/phototab/in/v1/421976/5UXCW2C5XKL080874/275a45c13917ac61670edd9ae6d5a17c.jpg'}\n",
      "{'mileage': '76,502 mi.', 'body_name': 'SUV', 'price': 5895, 'make': 'Honda', 'model': 'Element', 'trim_name': 'EX', 'year': 2004, 'ext_color': 'Blue', 'int_color': 'Gray', 'transmission': 'Automatic', 'drivetrain': '4x4/4-wheel drive', 'image': 'https://www.cstatic-images.com/phototab/in/v1/426261/5J6YH28594L011553/5ce9b0c5748ecb684c527eefe55c6791.jpg'}\n",
      "{'mileage': '23,727 mi.', 'body_name': 'Sedan', 'price': 8900, 'make': 'Nissan', 'model': 'Sentra', 'trim_name': 'S', 'year': 2018, 'ext_color': 'White', 'int_color': 'Black', 'transmission': 'CVT', 'drivetrain': 'FWD', 'image': 'https://www.cstatic-images.com/phototab/in/v1/33005319/3N1AB7AP2JY333829/7b1c6cecf7a07350fc88d68f46a955ce.jpg'}\n",
      "{'mileage': '46,000 mi.', 'body_name': 'Coupe', 'price': 15900, 'make': 'BMW', 'model': 'M235', 'trim_name': 'i xDrive', 'year': 2015, 'ext_color': 'Black', 'int_color': 'Black', 'transmission': 'Automatic', 'drivetrain': 'AWD', 'image': 'https://www.cstatic-images.com/phototab/in/v1/3230064/NOVIN1569009239424/3185d7695e0f93116a907c39ea48ed58.jpg'}\n",
      "{'mileage': '49,081 mi.', 'body_name': 'Sedan', 'price': 86555, 'make': 'Mercedes-Benz', 'model': 'Maybach S 550', 'trim_name': 'Base 4MATIC', 'year': 2017, 'ext_color': 'Other', 'int_color': 'Brown', 'transmission': 'Automatic', 'drivetrain': 'AWD', 'image': 'https://www.cstatic-images.com/phototab/in/v1/24533731/WDDUX8FB2HA286207/843602341366ad397d01b5175b404b6e.jpg'}\n",
      "{'mileage': '115,091 mi.', 'body_name': 'SUV', 'price': 6499, 'make': 'Nissan', 'model': 'Pathfinder', 'trim_name': 'SE', 'year': 2008, 'ext_color': 'Silver', 'int_color': 'Other', 'transmission': 'Automatic', 'drivetrain': '4x4/4-wheel drive', 'image': 'https://www.cstatic-images.com/phototab/in/v1/27946666/5N1AR18B68C652830/def1812586a5600db61b3103b3b390fd.jpg'}\n",
      "{'mileage': '93,371 mi.', 'body_name': 'Convertible', 'price': 3200, 'make': 'Nissan', 'model': '350Z', 'trim_name': 'Touring', 'year': 2004, 'ext_color': 'Silver', 'int_color': 'Black', 'transmission': 'Automatic', 'drivetrain': 'RWD', 'image': 'https://www.cstatic-images.com/phototab/in/v1/6368464/JN1AZ36A44T002790/35ed78cac851184fe544ac301094cada.jpg'}\n",
      "{'mileage': '31,589 mi.', 'body_name': 'Coupe', 'price': 59995, 'make': 'BMW', 'model': 'i8', 'trim_name': 'Base', 'year': 2015, 'ext_color': 'White', 'int_color': 'Beige', 'transmission': 'Automatic', 'drivetrain': 'AWD', 'image': 'https://www.cstatic-images.com/phototab/in/v1/21211256/WBY2Z2C50FV674452/9fbde187dc5abbdc00cc5a9a35887d56.jpg'}\n",
      "{'mileage': '56,082 mi.', 'body_name': 'Wagon', 'price': 7995, 'make': 'Chevrolet', 'model': 'HHR', 'trim_name': 'Panel LS', 'year': 2011, 'ext_color': 'White', 'int_color': 'Black', 'transmission': 'Automatic', 'drivetrain': 'FWD', 'image': 'https://www.cstatic-images.com/phototab/in/v1/7540877/3GCAAAFW6BS551726/b9453090bee264c411f9d1af5cff3997.jpg'}\n",
      "{'mileage': '29,485 mi.', 'body_name': 'SUV', 'price': 22900, 'make': 'BMW', 'model': 'X3', 'trim_name': 'xDrive35i', 'year': 2017, 'ext_color': 'Black', 'int_color': 'Black', 'transmission': 'Automatic', 'drivetrain': 'AWD', 'image': 'https://www.cstatic-images.com/phototab/in/v1/17557848/5UXWX7C36H0U44241/a94c74491cc1f7ec1aaba1a91f622820.jpg'}\n",
      "CRAWLING DONE\n"
     ]
    }
   ],
   "source": [
    "# CRAWLING\n",
    "# salah satu contoh raw json yg bakal diambil\n",
    "# {\"bodystyleName\":\"Crew Cab Pickup\",\"sellerId\":424805,\"customerId\":4083,\"isCpoVehicle\":false,\"price\":47193,\"listingId\":784826056,\"mkId\":20053,\"mkNm\":\"Chevrolet\",\"mdId\":22061,\"mdNm\":\"Silverado 1500\",\"trimId\":24332,\"trimName\":\"LT\",\"modelYearId\":36620293,\"modelYear\":2020,\"stkTyp\":\"New\",\"state\":\"CT\",\"zipcode\":\"11430\"}\n",
    "\n",
    "def getLiData(ul_tag_parent, ul_selector, ul_selector_name, li_selector = None, li_selector_name = None):\n",
    "  ul_data = ul_tag_parent.find(\"ul\",{ul_selector:ul_selector_name})\n",
    "  raw_li = ul_data.findAll(\"li\")\n",
    "\n",
    "  if li_selector != None:\n",
    "    raw_li = ul_data.findAll(\"li\",{li_selector:li_selector_name})\n",
    "\n",
    "  li_data = {}\n",
    "  for li in raw_li:\n",
    "    txt = li.text.strip()\n",
    "    value = txt[txt.index(':'):]\n",
    "    key = txt[:txt.index(':')].lower().replace(\". \",\"_\")\n",
    "    value = value.replace(\":\\n\",\"\").lstrip()\n",
    "    li_data[key] = value\n",
    "  \n",
    "  # renaming the key sm dgn pop the value and assign it to the knew key\n",
    "  li_data[\"transmission\"]\n",
    "\n",
    "  return li_data\n",
    "\n",
    "def getJsonData(tag_parent, tag_type, selector, selector_name, attribute = \"\"):\n",
    "  details = tag_parent.find(\"div\",{\"class\":\"listing-row__details\"})\n",
    "  raw_json = json.loads(details.find(tag_type,{selector:selector_name})[attribute])\n",
    "  return raw_json\n",
    "\n",
    "def filterJsonData(data ,**kwargs):\n",
    "  filtered_data = {}\n",
    "  for key,value in kwargs.items():\n",
    "        filtered_data[key] = data[value]\n",
    "  return filtered_data\n",
    "\n",
    "def getPhoto(tag_parent):\n",
    "  photo_container = tag_parent.find(\"div\",{\"class\":\"listing-row__photo-container\"})\n",
    "  img_raw = str(photo_container.select_one(\".photo-image\"))\n",
    "  img_raw= img_raw[img_raw.index('('):img_raw.index(')')].replace(\"(\",\"\")\n",
    "  image = {\n",
    "      \"image\": img_raw\n",
    "  }\n",
    "\n",
    "  return image\n",
    "\n",
    "selected_field = {\n",
    "    \"body_name\": \"bodystyleName\",\n",
    "    \"price\":\"price\",\n",
    "    \"make\":\"mkNm\",\n",
    "    \"model\":\"mdNm\",\n",
    "    \"trim_name\":\"trimName\",\n",
    "    \"year\":\"modelYear\"\n",
    "}\n",
    "\n",
    "\n",
    "page_ke = 1\n",
    "url = 'https://www.cars.com/for-sale/searchresults.action/?dealerType=localOnly&mkId=20005,20053,20015,20017,20028,20077,20088&page=' + str(page_ke) + '&perPage=100&rd=99999&searchSource=PAGINATION&sort=relevance&stkTypId=28881&zc=11430'\n",
    "temp_raw = []\n",
    "while len(temp_raw) < 10:\n",
    "  page = rq.get(url)\n",
    "  # print(page.status_code) #cek status request, jika 200 maka berhasil masuk\n",
    "  soup = bs(page.content, 'lxml')\n",
    "  listings = soup.find(\"div\",{\"class\": \"shop-srp-listings\"})\n",
    "  batch = [\n",
    "            {\n",
    "                **{\n",
    "                    # \"href\": \"cars.com\"+ container.find(\"a\",{\"class\": \"shop-srp-listings__listing\"},href=True)[\"href\"],\n",
    "                   \"mileage\": container.find(\"span\",{\"class\":\"listing-row__mileage\"}).text.strip()\n",
    "                  #  background-image: url(https://www.cstatic-images.com/phototab/in/v1/449520/1FM5K8D80HGA31276/0c030ab7f4ff22fe334302bc95d4f08a.jpg);\n",
    "                   }\n",
    "             ,\n",
    "             **filterJsonData(getJsonData(container,\"div\",\"class\",\"listing-row__save\",attribute = \"vehicle\"),**selected_field),\n",
    "             **getLiData(container,\"class\",\"listing-row__meta\"),\n",
    "             **getPhoto(container)\n",
    "            }\n",
    "\n",
    "            for container in listings.findAll(\"div\",{\"class\":\"shop-srp-listings__listing-container\"})\n",
    "            ]\n",
    "\n",
    "  temp_raw.append(batch)\n",
    "  print(batch[page_ke-1])\n",
    "  page_ke += 1\n",
    "  url = 'https://www.cars.com/for-sale/searchresults.action/?dealerType=localOnly&mkId=20005,20053,20015,20017,20028,20077,20088&page=' + str(page_ke) + '&perPage=100&rd=99999&searchSource=PAGINATION&sort=relevance&stkTypId=28881&zc=11430'\n",
    "  \n",
    "\n",
    "raw_data = []\n",
    "for raw in temp_raw:\n",
    "  raw_data += raw\n",
    "dataset = pd.DataFrame.from_dict(raw_data)\n",
    "dataset.to_csv(\"raw_data.csv\")\n",
    "print(\"CRAWLING DONE\")"
   ]
  },
  {
   "cell_type": "code",
   "execution_count": null,
   "metadata": {},
   "outputs": [
    {
     "name": "stderr",
     "output_type": "stream",
     "text": [
      " * Running on http://127.0.0.1:5000/ (Press CTRL+C to quit)\n",
      "127.0.0.1 - - [10/Dec/2019 21:22:09] \"GET / HTTP/1.1\" 200 -\n"
     ]
    },
    {
     "name": "stdout",
     "output_type": "stream",
     "text": [
      "<Response 416292 bytes [200 OK]>\n"
     ]
    },
    {
     "name": "stderr",
     "output_type": "stream",
     "text": [
      "127.0.0.1 - - [10/Dec/2019 21:22:15] \"GET / HTTP/1.1\" 200 -\n",
      "[2019-12-10 21:22:15,335] ERROR in app: Exception on /plot/seaborn [GET]\n",
      "Traceback (most recent call last):\n",
      "  File \"C:\\Users\\Haris\\Anaconda3\\lib\\site-packages\\flask\\app.py\", line 1982, in wsgi_app\n",
      "    response = self.full_dispatch_request()\n",
      "  File \"C:\\Users\\Haris\\Anaconda3\\lib\\site-packages\\flask\\app.py\", line 1614, in full_dispatch_request\n",
      "    rv = self.handle_user_exception(e)\n",
      "  File \"C:\\Users\\Haris\\Anaconda3\\lib\\site-packages\\flask_cors\\extension.py\", line 161, in wrapped_function\n",
      "    return cors_after_request(app.make_response(f(*args, **kwargs)))\n",
      "  File \"C:\\Users\\Haris\\Anaconda3\\lib\\site-packages\\flask\\app.py\", line 1517, in handle_user_exception\n",
      "    reraise(exc_type, exc_value, tb)\n",
      "  File \"C:\\Users\\Haris\\Anaconda3\\lib\\site-packages\\flask\\_compat.py\", line 33, in reraise\n",
      "    raise value\n",
      "  File \"C:\\Users\\Haris\\Anaconda3\\lib\\site-packages\\flask\\app.py\", line 1612, in full_dispatch_request\n",
      "    rv = self.dispatch_request()\n",
      "  File \"C:\\Users\\Haris\\Anaconda3\\lib\\site-packages\\flask\\app.py\", line 1598, in dispatch_request\n",
      "    return self.view_functions[rule.endpoint](**req.view_args)\n",
      "  File \"C:\\Users\\Haris\\Anaconda3\\lib\\site-packages\\flask_cors\\decorator.py\", line 128, in wrapped_function\n",
      "    resp = make_response(f(*args, **kwargs))\n",
      "  File \"<ipython-input-36-fea5bb9a9f22>\", line 230, in send_plot_seaborn\n",
      "    plot_result =  make_plot_seaborn(ytest_ypred)\n",
      "  File \"<ipython-input-36-fea5bb9a9f22>\", line 100, in make_plot_seaborn\n",
      "    y_test,y_pred = y_test_train\n",
      "ValueError: not enough values to unpack (expected 2, got 0)\n",
      "127.0.0.1 - - [10/Dec/2019 21:22:15] \"GET /plot/seaborn HTTP/1.1\" 500 -\n",
      "[2019-12-10 21:22:15,342] ERROR in app: Exception on /plot/plt [GET]\n",
      "Traceback (most recent call last):\n",
      "  File \"C:\\Users\\Haris\\Anaconda3\\lib\\site-packages\\flask\\app.py\", line 1982, in wsgi_app\n",
      "    response = self.full_dispatch_request()\n",
      "  File \"C:\\Users\\Haris\\Anaconda3\\lib\\site-packages\\flask\\app.py\", line 1614, in full_dispatch_request\n",
      "    rv = self.handle_user_exception(e)\n",
      "  File \"C:\\Users\\Haris\\Anaconda3\\lib\\site-packages\\flask_cors\\extension.py\", line 161, in wrapped_function\n",
      "    return cors_after_request(app.make_response(f(*args, **kwargs)))\n",
      "  File \"C:\\Users\\Haris\\Anaconda3\\lib\\site-packages\\flask\\app.py\", line 1517, in handle_user_exception\n",
      "    reraise(exc_type, exc_value, tb)\n",
      "  File \"C:\\Users\\Haris\\Anaconda3\\lib\\site-packages\\flask\\_compat.py\", line 33, in reraise\n",
      "    raise value\n",
      "  File \"C:\\Users\\Haris\\Anaconda3\\lib\\site-packages\\flask\\app.py\", line 1612, in full_dispatch_request\n",
      "    rv = self.dispatch_request()\n",
      "  File \"C:\\Users\\Haris\\Anaconda3\\lib\\site-packages\\flask\\app.py\", line 1598, in dispatch_request\n",
      "    return self.view_functions[rule.endpoint](**req.view_args)\n",
      "  File \"C:\\Users\\Haris\\Anaconda3\\lib\\site-packages\\flask_cors\\decorator.py\", line 128, in wrapped_function\n",
      "    resp = make_response(f(*args, **kwargs))\n",
      "  File \"<ipython-input-36-fea5bb9a9f22>\", line 223, in send_plot\n",
      "    plot_result = make_plot(ytest_ypred)\n",
      "  File \"<ipython-input-36-fea5bb9a9f22>\", line 89, in make_plot\n",
      "    y_test, y_pred = y_test_train\n",
      "ValueError: not enough values to unpack (expected 2, got 0)\n",
      "127.0.0.1 - - [10/Dec/2019 21:22:15] \"GET /plot/plt HTTP/1.1\" 500 -\n",
      "127.0.0.1 - - [10/Dec/2019 21:22:15] \"GET /result HTTP/1.1\" 200 -\n"
     ]
    },
    {
     "name": "stdout",
     "output_type": "stream",
     "text": [
      "<Response 416292 bytes [200 OK]>\n",
      "<Response 113 bytes [200 OK]>\n"
     ]
    },
    {
     "name": "stderr",
     "output_type": "stream",
     "text": [
      "127.0.0.1 - - [10/Dec/2019 21:22:19] \"GET /train-test HTTP/1.1\" 200 -\n"
     ]
    },
    {
     "name": "stdout",
     "output_type": "stream",
     "text": [
      "<Response 133644 bytes [200 OK]>\n"
     ]
    },
    {
     "name": "stderr",
     "output_type": "stream",
     "text": [
      "127.0.0.1 - - [10/Dec/2019 21:22:25] \"GET /predict HTTP/1.1\" 200 -\n"
     ]
    },
    {
     "name": "stdout",
     "output_type": "stream",
     "text": [
      "score: 69.61104914357928%\n",
      "--------------------------------------------\n",
      "<Response 138010 bytes [200 OK]>\n"
     ]
    },
    {
     "name": "stderr",
     "output_type": "stream",
     "text": [
      "127.0.0.1 - - [10/Dec/2019 21:22:30] \"GET /result HTTP/1.1\" 200 -\n"
     ]
    },
    {
     "name": "stdout",
     "output_type": "stream",
     "text": [
      "<Response 136 bytes [200 OK]>\n"
     ]
    },
    {
     "name": "stderr",
     "output_type": "stream",
     "text": [
      "127.0.0.1 - - [10/Dec/2019 21:23:20] \"GET /plot/seaborn HTTP/1.1\" 200 -\n",
      "127.0.0.1 - - [10/Dec/2019 21:23:21] \"GET /plot/plt HTTP/1.1\" 200 -\n",
      "127.0.0.1 - - [10/Dec/2019 21:23:21] \"GET /result HTTP/1.1\" 200 -\n",
      "127.0.0.1 - - [10/Dec/2019 21:23:21] \"GET /result HTTP/1.1\" 200 -\n"
     ]
    },
    {
     "name": "stdout",
     "output_type": "stream",
     "text": [
      "<Response 136 bytes [200 OK]>\n",
      "<Response 136 bytes [200 OK]>\n"
     ]
    },
    {
     "name": "stderr",
     "output_type": "stream",
     "text": [
      "127.0.0.1 - - [10/Dec/2019 21:23:33] \"GET /plot/seaborn HTTP/1.1\" 200 -\n",
      "127.0.0.1 - - [10/Dec/2019 21:23:34] \"GET /plot/plt HTTP/1.1\" 200 -\n",
      "127.0.0.1 - - [10/Dec/2019 21:23:34] \"GET /result HTTP/1.1\" 200 -\n",
      "127.0.0.1 - - [10/Dec/2019 21:23:34] \"GET /result HTTP/1.1\" 200 -\n"
     ]
    },
    {
     "name": "stdout",
     "output_type": "stream",
     "text": [
      "<Response 136 bytes [200 OK]>\n",
      "<Response 136 bytes [200 OK]>\n"
     ]
    },
    {
     "name": "stderr",
     "output_type": "stream",
     "text": [
      "127.0.0.1 - - [10/Dec/2019 21:24:13] \"GET /plot/seaborn HTTP/1.1\" 200 -\n",
      "127.0.0.1 - - [10/Dec/2019 21:24:14] \"GET /plot/plt HTTP/1.1\" 200 -\n",
      "127.0.0.1 - - [10/Dec/2019 21:24:14] \"GET /result HTTP/1.1\" 200 -\n",
      "127.0.0.1 - - [10/Dec/2019 21:24:14] \"GET /result HTTP/1.1\" 200 -\n"
     ]
    },
    {
     "name": "stdout",
     "output_type": "stream",
     "text": [
      "<Response 136 bytes [200 OK]>\n",
      "<Response 136 bytes [200 OK]>\n"
     ]
    },
    {
     "name": "stderr",
     "output_type": "stream",
     "text": [
      "127.0.0.1 - - [10/Dec/2019 21:24:33] \"GET /plot/seaborn HTTP/1.1\" 200 -\n",
      "127.0.0.1 - - [10/Dec/2019 21:24:33] \"GET /plot/plt HTTP/1.1\" 200 -\n",
      "127.0.0.1 - - [10/Dec/2019 21:24:33] \"GET /result HTTP/1.1\" 200 -\n",
      "127.0.0.1 - - [10/Dec/2019 21:24:33] \"GET /result HTTP/1.1\" 200 -\n"
     ]
    },
    {
     "name": "stdout",
     "output_type": "stream",
     "text": [
      "<Response 136 bytes [200 OK]>\n",
      "<Response 136 bytes [200 OK]>\n"
     ]
    },
    {
     "name": "stderr",
     "output_type": "stream",
     "text": [
      "127.0.0.1 - - [10/Dec/2019 21:24:46] \"GET /plot/seaborn HTTP/1.1\" 200 -\n",
      "127.0.0.1 - - [10/Dec/2019 21:24:47] \"GET /plot/plt HTTP/1.1\" 200 -\n",
      "127.0.0.1 - - [10/Dec/2019 21:24:47] \"GET /result HTTP/1.1\" 200 -\n",
      "127.0.0.1 - - [10/Dec/2019 21:24:47] \"GET /result HTTP/1.1\" 200 -\n"
     ]
    },
    {
     "name": "stdout",
     "output_type": "stream",
     "text": [
      "<Response 136 bytes [200 OK]>\n",
      "<Response 136 bytes [200 OK]>\n"
     ]
    },
    {
     "name": "stderr",
     "output_type": "stream",
     "text": [
      "127.0.0.1 - - [10/Dec/2019 21:25:01] \"GET /plot/seaborn HTTP/1.1\" 200 -\n",
      "127.0.0.1 - - [10/Dec/2019 21:25:01] \"GET /plot/plt HTTP/1.1\" 200 -\n",
      "127.0.0.1 - - [10/Dec/2019 21:25:01] \"GET /result HTTP/1.1\" 200 -\n"
     ]
    },
    {
     "name": "stdout",
     "output_type": "stream",
     "text": [
      "<Response 136 bytes [200 OK]>\n"
     ]
    },
    {
     "name": "stderr",
     "output_type": "stream",
     "text": [
      "127.0.0.1 - - [10/Dec/2019 21:25:01] \"GET /result HTTP/1.1\" 200 -\n"
     ]
    },
    {
     "name": "stdout",
     "output_type": "stream",
     "text": [
      "<Response 136 bytes [200 OK]>\n"
     ]
    },
    {
     "name": "stderr",
     "output_type": "stream",
     "text": [
      "127.0.0.1 - - [10/Dec/2019 21:25:15] \"GET /plot/seaborn HTTP/1.1\" 200 -\n",
      "127.0.0.1 - - [10/Dec/2019 21:25:16] \"GET /plot/plt HTTP/1.1\" 200 -\n",
      "127.0.0.1 - - [10/Dec/2019 21:25:16] \"GET /result HTTP/1.1\" 200 -\n",
      "127.0.0.1 - - [10/Dec/2019 21:25:16] \"GET /result HTTP/1.1\" 200 -\n"
     ]
    },
    {
     "name": "stdout",
     "output_type": "stream",
     "text": [
      "<Response 136 bytes [200 OK]>\n",
      "<Response 136 bytes [200 OK]>\n"
     ]
    },
    {
     "name": "stderr",
     "output_type": "stream",
     "text": [
      "127.0.0.1 - - [10/Dec/2019 21:25:34] \"GET /plot/seaborn HTTP/1.1\" 200 -\n",
      "127.0.0.1 - - [10/Dec/2019 21:25:35] \"GET /plot/plt HTTP/1.1\" 200 -\n",
      "127.0.0.1 - - [10/Dec/2019 21:25:35] \"GET /result HTTP/1.1\" 200 -\n"
     ]
    },
    {
     "name": "stdout",
     "output_type": "stream",
     "text": [
      "<Response 136 bytes [200 OK]>\n"
     ]
    },
    {
     "name": "stderr",
     "output_type": "stream",
     "text": [
      "127.0.0.1 - - [10/Dec/2019 21:25:35] \"GET /result HTTP/1.1\" 200 -\n"
     ]
    },
    {
     "name": "stdout",
     "output_type": "stream",
     "text": [
      "<Response 136 bytes [200 OK]>\n"
     ]
    },
    {
     "name": "stderr",
     "output_type": "stream",
     "text": [
      "127.0.0.1 - - [10/Dec/2019 21:25:44] \"GET /result HTTP/1.1\" 200 -\n"
     ]
    },
    {
     "name": "stdout",
     "output_type": "stream",
     "text": [
      "<Response 136 bytes [200 OK]>\n"
     ]
    },
    {
     "name": "stderr",
     "output_type": "stream",
     "text": [
      "127.0.0.1 - - [10/Dec/2019 21:25:45] \"GET /plot/seaborn HTTP/1.1\" 200 -\n",
      "127.0.0.1 - - [10/Dec/2019 21:25:46] \"GET /plot/plt HTTP/1.1\" 200 -\n",
      "127.0.0.1 - - [10/Dec/2019 21:25:46] \"GET /result HTTP/1.1\" 200 -\n"
     ]
    },
    {
     "name": "stdout",
     "output_type": "stream",
     "text": [
      "<Response 136 bytes [200 OK]>\n"
     ]
    },
    {
     "name": "stderr",
     "output_type": "stream",
     "text": [
      "127.0.0.1 - - [10/Dec/2019 21:25:51] \"GET /plot/seaborn HTTP/1.1\" 200 -\n",
      "127.0.0.1 - - [10/Dec/2019 21:25:51] \"GET /plot/plt HTTP/1.1\" 200 -\n",
      "127.0.0.1 - - [10/Dec/2019 21:25:51] \"GET /result HTTP/1.1\" 200 -\n",
      "127.0.0.1 - - [10/Dec/2019 21:25:51] \"GET /result HTTP/1.1\" 200 -\n"
     ]
    },
    {
     "name": "stdout",
     "output_type": "stream",
     "text": [
      "<Response 136 bytes [200 OK]>\n",
      "<Response 136 bytes [200 OK]>\n"
     ]
    },
    {
     "name": "stderr",
     "output_type": "stream",
     "text": [
      "127.0.0.1 - - [10/Dec/2019 21:25:53] \"GET /result HTTP/1.1\" 200 -\n"
     ]
    },
    {
     "name": "stdout",
     "output_type": "stream",
     "text": [
      "<Response 136 bytes [200 OK]>\n"
     ]
    },
    {
     "name": "stderr",
     "output_type": "stream",
     "text": [
      "C:\\Users\\Haris\\Anaconda3\\lib\\site-packages\\seaborn\\axisgrid.py:311: RuntimeWarning: More than 20 figures have been opened. Figures created through the pyplot interface (`matplotlib.pyplot.figure`) are retained until explicitly closed and may consume too much memory. (To control this warning, see the rcParam `figure.max_open_warning`).\n",
      "  fig, axes = plt.subplots(nrow, ncol, **kwargs)\n",
      "127.0.0.1 - - [10/Dec/2019 21:25:54] \"GET /plot/seaborn HTTP/1.1\" 200 -\n",
      "C:\\Users\\Haris\\Anaconda3\\lib\\site-packages\\pandas\\plotting\\_core.py:304: RuntimeWarning: More than 20 figures have been opened. Figures created through the pyplot interface (`matplotlib.pyplot.figure`) are retained until explicitly closed and may consume too much memory. (To control this warning, see the rcParam `figure.max_open_warning`).\n",
      "  fig = self.plt.figure(figsize=self.figsize)\n",
      "127.0.0.1 - - [10/Dec/2019 21:25:55] \"GET /plot/plt HTTP/1.1\" 200 -\n",
      "127.0.0.1 - - [10/Dec/2019 21:25:55] \"GET /result HTTP/1.1\" 200 -\n"
     ]
    },
    {
     "name": "stdout",
     "output_type": "stream",
     "text": [
      "<Response 136 bytes [200 OK]>\n"
     ]
    },
    {
     "name": "stderr",
     "output_type": "stream",
     "text": [
      "127.0.0.1 - - [10/Dec/2019 21:26:07] \"GET /plot/seaborn HTTP/1.1\" 200 -\n",
      "127.0.0.1 - - [10/Dec/2019 21:26:08] \"GET /plot/plt HTTP/1.1\" 200 -\n",
      "127.0.0.1 - - [10/Dec/2019 21:26:08] \"GET /result HTTP/1.1\" 200 -\n",
      "127.0.0.1 - - [10/Dec/2019 21:26:08] \"GET /result HTTP/1.1\" 200 -\n"
     ]
    },
    {
     "name": "stdout",
     "output_type": "stream",
     "text": [
      "<Response 136 bytes [200 OK]>\n",
      "<Response 136 bytes [200 OK]>\n"
     ]
    },
    {
     "name": "stderr",
     "output_type": "stream",
     "text": [
      "127.0.0.1 - - [10/Dec/2019 21:26:24] \"GET /plot/plt HTTP/1.1\" 200 -\n",
      "127.0.0.1 - - [10/Dec/2019 21:26:25] \"GET /plot/seaborn HTTP/1.1\" 200 -\n",
      "127.0.0.1 - - [10/Dec/2019 21:26:25] \"GET /result HTTP/1.1\" 200 -\n",
      "127.0.0.1 - - [10/Dec/2019 21:26:25] \"GET /result HTTP/1.1\" 200 -\n"
     ]
    },
    {
     "name": "stdout",
     "output_type": "stream",
     "text": [
      "<Response 136 bytes [200 OK]>\n",
      "<Response 136 bytes [200 OK]>\n"
     ]
    },
    {
     "name": "stderr",
     "output_type": "stream",
     "text": [
      "127.0.0.1 - - [10/Dec/2019 21:26:45] \"GET /plot/seaborn HTTP/1.1\" 200 -\n",
      "127.0.0.1 - - [10/Dec/2019 21:26:46] \"GET /plot/plt HTTP/1.1\" 200 -\n",
      "127.0.0.1 - - [10/Dec/2019 21:26:46] \"GET /result HTTP/1.1\" 200 -\n",
      "127.0.0.1 - - [10/Dec/2019 21:26:46] \"GET /result HTTP/1.1\" 200 -\n"
     ]
    },
    {
     "name": "stdout",
     "output_type": "stream",
     "text": [
      "<Response 136 bytes [200 OK]>\n",
      "<Response 136 bytes [200 OK]>\n"
     ]
    },
    {
     "name": "stderr",
     "output_type": "stream",
     "text": [
      "127.0.0.1 - - [10/Dec/2019 21:27:04] \"GET /plot/plt HTTP/1.1\" 200 -\n",
      "127.0.0.1 - - [10/Dec/2019 21:27:04] \"GET /plot/seaborn HTTP/1.1\" 200 -\n",
      "127.0.0.1 - - [10/Dec/2019 21:27:04] \"GET /result HTTP/1.1\" 200 -\n",
      "127.0.0.1 - - [10/Dec/2019 21:27:04] \"GET /result HTTP/1.1\" 200 -\n"
     ]
    },
    {
     "name": "stdout",
     "output_type": "stream",
     "text": [
      "<Response 136 bytes [200 OK]>\n",
      "<Response 136 bytes [200 OK]>\n"
     ]
    },
    {
     "name": "stderr",
     "output_type": "stream",
     "text": [
      "127.0.0.1 - - [10/Dec/2019 21:27:13] \"GET /result HTTP/1.1\" 200 -\n"
     ]
    },
    {
     "name": "stdout",
     "output_type": "stream",
     "text": [
      "<Response 136 bytes [200 OK]>\n"
     ]
    },
    {
     "name": "stderr",
     "output_type": "stream",
     "text": [
      "127.0.0.1 - - [10/Dec/2019 21:27:13] \"GET /plot/seaborn HTTP/1.1\" 200 -\n",
      "127.0.0.1 - - [10/Dec/2019 21:27:14] \"GET /plot/plt HTTP/1.1\" 200 -\n",
      "127.0.0.1 - - [10/Dec/2019 21:27:14] \"GET /result HTTP/1.1\" 200 -\n"
     ]
    },
    {
     "name": "stdout",
     "output_type": "stream",
     "text": [
      "<Response 136 bytes [200 OK]>\n"
     ]
    },
    {
     "name": "stderr",
     "output_type": "stream",
     "text": [
      "127.0.0.1 - - [10/Dec/2019 21:27:40] \"GET /plot/seaborn HTTP/1.1\" 200 -\n",
      "127.0.0.1 - - [10/Dec/2019 21:27:41] \"GET /plot/plt HTTP/1.1\" 200 -\n",
      "127.0.0.1 - - [10/Dec/2019 21:27:41] \"GET /result HTTP/1.1\" 200 -\n",
      "127.0.0.1 - - [10/Dec/2019 21:27:41] \"GET /result HTTP/1.1\" 200 -\n"
     ]
    },
    {
     "name": "stdout",
     "output_type": "stream",
     "text": [
      "<Response 136 bytes [200 OK]>\n",
      "<Response 136 bytes [200 OK]>\n"
     ]
    },
    {
     "name": "stderr",
     "output_type": "stream",
     "text": [
      "127.0.0.1 - - [10/Dec/2019 21:27:47] \"GET /result HTTP/1.1\" 200 -\n"
     ]
    },
    {
     "name": "stdout",
     "output_type": "stream",
     "text": [
      "<Response 136 bytes [200 OK]>\n"
     ]
    },
    {
     "name": "stderr",
     "output_type": "stream",
     "text": [
      "127.0.0.1 - - [10/Dec/2019 21:27:48] \"GET /plot/seaborn HTTP/1.1\" 200 -\n",
      "127.0.0.1 - - [10/Dec/2019 21:27:48] \"GET /plot/plt HTTP/1.1\" 200 -\n",
      "127.0.0.1 - - [10/Dec/2019 21:27:48] \"GET /result HTTP/1.1\" 200 -\n"
     ]
    },
    {
     "name": "stdout",
     "output_type": "stream",
     "text": [
      "<Response 136 bytes [200 OK]>\n"
     ]
    },
    {
     "name": "stderr",
     "output_type": "stream",
     "text": [
      "127.0.0.1 - - [10/Dec/2019 21:27:57] \"GET /plot/seaborn HTTP/1.1\" 200 -\n",
      "127.0.0.1 - - [10/Dec/2019 21:27:58] \"GET /plot/plt HTTP/1.1\" 200 -\n",
      "127.0.0.1 - - [10/Dec/2019 21:27:58] \"GET /result HTTP/1.1\" 200 -\n",
      "127.0.0.1 - - [10/Dec/2019 21:27:58] \"GET /result HTTP/1.1\" 200 -\n"
     ]
    },
    {
     "name": "stdout",
     "output_type": "stream",
     "text": [
      "<Response 136 bytes [200 OK]>\n",
      "<Response 136 bytes [200 OK]>\n"
     ]
    },
    {
     "name": "stderr",
     "output_type": "stream",
     "text": [
      "127.0.0.1 - - [10/Dec/2019 21:28:07] \"GET /result HTTP/1.1\" 200 -\n"
     ]
    },
    {
     "name": "stdout",
     "output_type": "stream",
     "text": [
      "<Response 136 bytes [200 OK]>\n"
     ]
    },
    {
     "name": "stderr",
     "output_type": "stream",
     "text": [
      "127.0.0.1 - - [10/Dec/2019 21:28:08] \"GET /plot/seaborn HTTP/1.1\" 200 -\n",
      "127.0.0.1 - - [10/Dec/2019 21:28:08] \"GET /plot/plt HTTP/1.1\" 200 -\n",
      "127.0.0.1 - - [10/Dec/2019 21:28:08] \"GET /result HTTP/1.1\" 200 -\n"
     ]
    },
    {
     "name": "stdout",
     "output_type": "stream",
     "text": [
      "<Response 136 bytes [200 OK]>\n"
     ]
    },
    {
     "name": "stderr",
     "output_type": "stream",
     "text": [
      "127.0.0.1 - - [10/Dec/2019 21:28:17] \"GET /train-test HTTP/1.1\" 200 -\n"
     ]
    },
    {
     "name": "stdout",
     "output_type": "stream",
     "text": [
      "<Response 133644 bytes [200 OK]>\n"
     ]
    },
    {
     "name": "stderr",
     "output_type": "stream",
     "text": [
      "127.0.0.1 - - [10/Dec/2019 21:28:28] \"GET / HTTP/1.1\" 200 -\n"
     ]
    },
    {
     "name": "stdout",
     "output_type": "stream",
     "text": [
      "<Response 416292 bytes [200 OK]>\n"
     ]
    },
    {
     "name": "stderr",
     "output_type": "stream",
     "text": [
      "127.0.0.1 - - [10/Dec/2019 21:28:37] \"GET /train-test HTTP/1.1\" 200 -\n"
     ]
    },
    {
     "name": "stdout",
     "output_type": "stream",
     "text": [
      "<Response 133644 bytes [200 OK]>\n"
     ]
    },
    {
     "name": "stderr",
     "output_type": "stream",
     "text": [
      "127.0.0.1 - - [10/Dec/2019 21:28:40] \"GET /predict HTTP/1.1\" 200 -\n"
     ]
    },
    {
     "name": "stdout",
     "output_type": "stream",
     "text": [
      "score: 69.6110491438517%\n",
      "--------------------------------------------\n",
      "<Response 137993 bytes [200 OK]>\n"
     ]
    },
    {
     "name": "stderr",
     "output_type": "stream",
     "text": [
      "127.0.0.1 - - [10/Dec/2019 21:28:43] \"GET /result HTTP/1.1\" 200 -\n"
     ]
    },
    {
     "name": "stdout",
     "output_type": "stream",
     "text": [
      "<Response 135 bytes [200 OK]>\n"
     ]
    }
   ],
   "source": [
    "# PREPROCESSING 1\n",
    "def replace_nan():\n",
    "  global dataset\n",
    "  # change a pure empty string (\"\") into NaN\n",
    "  dataset.replace(\"\",np.nan,inplace=True)\n",
    "  # mengganti unknown yg ada di transmission & drivetrain menjadi modus\n",
    "  dataset[\"transmission\"].replace(r\"Unknown\",np.nan, regex=True, inplace=True)\n",
    "  dataset[\"drivetrain\"].replace(\"Unknown\",np.nan, inplace=True)\n",
    "  # dataset[\"ext_color\"].replace(\"Other\",np.nan, inplace=True)\n",
    "  # dataset[\"int_color\"].replace(\"Other\",np.nan, inplace=True)\n",
    "  # pakai method forward fill\n",
    "  dataset.fillna(method = \"ffill\", inplace= True)\n",
    "  dataset[\"mileage\"].replace(regex=True,inplace=True,to_replace=r'\\D',value=r'')\n",
    "  dataset[\"mileage\"] = dataset[\"mileage\"].astype(int)\n",
    "    \n",
    "    \n",
    "    \n",
    "\n",
    "replace_nan()\n",
    "clean_data = dataset.copy()\n",
    "ori_col_names = dataset.loc[:, dataset.columns != \"price\"].columns\n",
    "xytrain_xytest = []\n",
    "ytest_ypred = []\n",
    "model_score = 0\n",
    "\n",
    "\n",
    "\n",
    "# PREPROCESSING 2\n",
    "def convert_to_numerical(categorical_col, modes_val):\n",
    "  global dataset\n",
    "  # One Hot Encoder\n",
    "  cat_modes_col = list(zip(categorical_col, modes_val))\n",
    "  df = []\n",
    "  for category_name, mode_val in cat_modes_col:\n",
    "    # top10 = dataset[category_name].value_counts()[:10].index\n",
    "    # dataset.loc[~dataset[category_name].isin(top10), category_name] = 'Other'\n",
    "    \n",
    "    dataset[category_name] = pd.Categorical(dataset[category_name])\n",
    "    df_dummies = pd.get_dummies(dataset[category_name], prefix=category_name)\n",
    "    # drop a dummy column\n",
    "    dummy_col_name = category_name + \"_\"+mode_val\n",
    "    if dummy_col_name in df_dummies.columns:\n",
    "      df_dummies.drop(columns=dummy_col_name, inplace=True)\n",
    "\n",
    "    dataset = pd.concat([dataset, df_dummies], axis=1)\n",
    "\n",
    "def get_each_modes(df,categorical_col):\n",
    "  modes_val = [df[col_name].mode()[0] for col_name in categorical_col]\n",
    "  return modes_val\n",
    "\n",
    "def tts(df):\n",
    "# TRAIN_TEST_SPLIT\n",
    "  X = df.loc[:, df.columns != \"price\"].values\n",
    "  y = df[\"price\"].values\n",
    "  X_train, X_test, y_train, y_test = train_test_split(X, y, test_size = 0.3, random_state=42)\n",
    "\n",
    "  return [X_train, y_train, X_test, y_test]\n",
    "\n",
    "def train_test_dataset(datasets, col_names):\n",
    "  X_train, y_train, X_test, y_test = datasets\n",
    "  test_dataset = pd.DataFrame(X_test[:,:11], columns= col_names)\n",
    "  test_dataset[\"price\"] = y_test\n",
    "  test_dataset[\"predicted_price\"] = \"-\"\n",
    "  test_dataset.to_csv(\"test_dataset.csv\")\n",
    "\n",
    "  train_dataset = pd.DataFrame(X_train[:,:11], columns= col_names)\n",
    "  train_dataset[\"price\"] = y_train\n",
    "  train_dataset.to_csv(\"train_dataset.csv\")\n",
    "\n",
    "  return test_dataset\n",
    "\n",
    "# MAKE MODEL\n",
    "def make_model(xytrain_test_data):\n",
    "  X_train, y_train, X_test, y_test = xytrain_test_data \n",
    "  reg = LinearRegression()  \n",
    "  reg.fit(X_train, y_train)\n",
    "  reg_score = reg.score(X_test, y_test)\n",
    "  print(\"score: \" + str(reg_score * 100) + \"%\")\n",
    "  print(\"--------------------------------------------\")\n",
    "\n",
    "  # Prediction on test data\n",
    "  y_pred = reg.predict(X_test)\n",
    "  y_test_train = (y_test, y_pred)\n",
    "  result = (reg_score, y_test_train)\n",
    "  return result\n",
    "  \n",
    "def make_plot(y_test_train):\n",
    "\n",
    "  y_test, y_pred = y_test_train\n",
    "  bytes_image = io.BytesIO()  \n",
    "  df_target = pd.DataFrame({'price': y_test, 'predicted_price': y_pred})  \n",
    "  df_target.head(25).plot(kind='bar',figsize=(10,8))\n",
    "  plt.grid(which='major', linestyle='-',  linewidth='0.5', color='black')\n",
    "  plt.grid(which='minor', linestyle=':', linewidth='0.5', color='yellow')\n",
    "  plt.savefig(bytes_image, format=\"png\")\n",
    "  bytes_image.seek(0)\n",
    "  return bytes_image\n",
    "\n",
    "def make_plot_seaborn(y_test_train):\n",
    "  y_test,y_pred = y_test_train\n",
    "  bytes_image = io.BytesIO()\n",
    "  df_target = pd.DataFrame({'price': y_test, 'predicted_price': y_pred}) \n",
    "  sns_plot = sns.lmplot(x='predicted_price',y='price',data=df_target,fit_reg=True)\n",
    "  sns_plot.savefig(bytes_image, format=\"png\")\n",
    "#   fig = sns_plot.get_figure()\n",
    "# #   fig.savefig(bytes_image)\n",
    "#   fig.savefig(bytes_image, format=\"png\")\n",
    "  bytes_image.seek(0)\n",
    "  return bytes_image\n",
    "\n",
    "def get_best_prediction():\n",
    "  global ytest_ypred\n",
    "  yt, yp = ytest_ypred\n",
    "  ytp = list(zip(yt,yp))\n",
    "  print(ytp)\n",
    "  print(ytp[0])\n",
    "  list_best_pred = [[data1,data2] for data1,data2 in ytp if -1000 <= data1-data2 <= 1000]\n",
    "  return list_best_pred\n",
    "\n",
    "\n",
    "@app.route(\"/\")\n",
    "@cross_origin(origin='localhost:3000',headers=['Content-Type'])\n",
    "# @cross_origin(allow_headers=['Content-Type'])\n",
    "def homepage():\n",
    "  global clean_data\n",
    "  clean_data.to_csv(\"clean_data.csv\")\n",
    "  # response = make_response()\n",
    "  response = jsonify(clean_data.to_dict(\"records\"))\n",
    "  # response.headers.add(\"Access-Control-Allow-Headers\", \"*\")\n",
    "  # response.headers.add('Access-Control-Allow-Origin', '*')\n",
    "  # response.headers.add(\"Access-Control-Allow-Origin\", \"*\")\n",
    "  print(response)\n",
    "  return response\n",
    "\n",
    "\n",
    "# def json_response(payload, status=200):\n",
    "#      return (json.dumps(payload), status, {'content-type': 'application/json'})\n",
    "\n",
    "@app.route(\"/train-test\")\n",
    "@cross_origin(origin='localhost:3000',headers=['Content-Type'])\n",
    "# @cross_origin(allow_headers=['Content-Type'])\n",
    "def train_test():\n",
    "  global xytrain_xytest\n",
    "  categorical_col = [\"body_name\",\"make\", \"model\", \"trim_name\", \"ext_color\", \"int_color\", \"transmission\", \"drivetrain\"]\n",
    "  # drop mode dari setiap kategorical column (untuk menghindari dummy variable trap)\n",
    "  modes_val = get_each_modes(dataset, categorical_col)\n",
    "  convert_to_numerical(categorical_col, modes_val)\n",
    "  dataset.to_csv(\"numerical_dataset.csv\")\n",
    "  xytrain_xytest_temp = tts(dataset)\n",
    "  # return an array\n",
    "  xytrain_xytest = [data for data in xytrain_xytest_temp]\n",
    "  train_dataset =  train_test_dataset(xytrain_xytest_temp, ori_col_names)\n",
    "  response = jsonify(train_dataset.to_dict(\"records\"))\n",
    "  print(response)\n",
    "  return response\n",
    "\n",
    "@app.route(\"/predict\")\n",
    "@cross_origin(origin='localhost:3000',headers=['Content-Type'])\n",
    "def predict():\n",
    "# delete unused columns in X datasets\n",
    "  global xytrain_xytest, ytest_ypred, model_score\n",
    "  X_train, y_train, X_test, y_test = xytrain_xytest\n",
    "\n",
    "  X_train_image = X_train[:,3]\n",
    "  X_train_mileage = X_train[:,6]\n",
    "  X_train_rest = X_train[:,10:]\n",
    "  X_train_temp = list(zip(X_train_mileage,X_train_rest))\n",
    "  # mileage, year, dummies_var...\n",
    "  X_train_new = [ np.insert(rest, 0, mile)  for mile, rest in X_train_temp ]\n",
    "\n",
    "  X_test_image = X_test[:,3]\n",
    "  X_test_mileage = X_test[:,6]\n",
    "  X_test_rest = X_test[:,10:]\n",
    "  X_test_temp = list(zip(X_test_mileage,X_test_rest))\n",
    "  X_test_new = [ np.insert(rest, 0, mile)  for mile, rest in X_test_temp ]\n",
    "\n",
    "  xytrain_xytest = [X_train_new, y_train, X_test_new, y_test]\n",
    "  model_score, model_result = make_model(xytrain_xytest)\n",
    "  ytest_ypred = [data for data in model_result]\n",
    "  ytrain_pred_temp = list(zip(model_result[0],model_result[1]))\n",
    "    \n",
    "  test_dataset = pd.read_csv(\"test_dataset.csv\").iloc[:,1:]\n",
    "  test_dataset[\"predicted_price\"] = model_result[1]\n",
    "  test_dataset.to_csv(\"test_dataset_final.csv\")\n",
    "  response = jsonify(test_dataset.to_dict(\"records\"))\n",
    "  print(response)\n",
    "  return response\n",
    "\n",
    "@app.route(\"/result\")\n",
    "@cross_origin(origin='localhost',headers=['Content-Type'])\n",
    "def result():\n",
    "  global model_score\n",
    "  score = model_score * 100\n",
    "  keterangan = \"\"\n",
    "  kesimpulan = \"\"\n",
    "  if score < 65:\n",
    "    keterangan = \"Buruk\"\n",
    "    kesimpulan = \"Model yang dibuat belum memadai untuk dataset ini\"\n",
    "  elif 65 <= score >= 75:\n",
    "    keterangan = \"Cukup Baik\"\n",
    "    kesimpulan = \"Model yang dibuat cukup memadai untuk dataset ini\"\n",
    "  elif 75 <= score >= 80:\n",
    "    keterangan = \"Baik\"\n",
    "    kesimpulan = \"Model yang dibuat memadai untuk dataset ini\"\n",
    "  else:\n",
    "    keterangan = \"Sangat Baik\"\n",
    "    kesimpulan = \"Model yang dibuat sangat memadai untuk dataset ini\"\n",
    "    \n",
    "# return array with 1 row,2 col\n",
    "#   bst_pred = get_best_prediction()\n",
    "#   if len(bst_pred) <= 0:\n",
    "#     bst_pred = [\"-\"]\n",
    "  dict_resp = dict({\"score\": score,\"keterangan\": keterangan, \"kesimpulan\": kesimpulan})\n",
    "  response = jsonify(dict_resp)\n",
    "  print(response)\n",
    "  return response\n",
    "\n",
    "@app.route(\"/plot/plt\")\n",
    "@cross_origin(origin='localhost',headers=['Content-Type'])\n",
    "def send_plot():\n",
    "  global ytest_ypred\n",
    "#   ytest_ypred = two d list\n",
    "  plot_result = make_plot(ytest_ypred)\n",
    "  return send_file(plot_result, attachment_filename=\"plot.png\", mimetype=\"image/png\")\n",
    "\n",
    "@app.route(\"/plot/seaborn\")\n",
    "@cross_origin(origin='localhost',headers=['Content-Type'])\n",
    "def send_plot_seaborn():\n",
    "  global ytest_ypred\n",
    "  plot_result =  make_plot_seaborn(ytest_ypred)\n",
    "  return send_file(plot_result, attachment_filename=\"seaborn_plot.png\", mimetype=\"image/png\")\n",
    "\n",
    "\n",
    "if __name__ == '__main__':\n",
    "    app.run()"
   ]
  },
  {
   "cell_type": "code",
   "execution_count": null,
   "metadata": {},
   "outputs": [],
   "source": []
  }
 ],
 "metadata": {
  "kernelspec": {
   "display_name": "Python 3",
   "language": "python",
   "name": "python3"
  },
  "language_info": {
   "codemirror_mode": {
    "name": "ipython",
    "version": 3
   },
   "file_extension": ".py",
   "mimetype": "text/x-python",
   "name": "python",
   "nbconvert_exporter": "python",
   "pygments_lexer": "ipython3",
   "version": "3.7.3"
  }
 },
 "nbformat": 4,
 "nbformat_minor": 2
}
